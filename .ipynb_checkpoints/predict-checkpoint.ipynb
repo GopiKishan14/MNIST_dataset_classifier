{
 "cells": [
  {
   "cell_type": "code",
   "execution_count": 22,
   "metadata": {},
   "outputs": [],
   "source": [
    "import tensorflow as tf\n",
    "import numpy as np\n",
    "import matplotlib.pyplot as plt\n",
    "from tensorflow.keras.utils import normalize\n",
    "\n",
    "import imageio"
   ]
  },
  {
   "cell_type": "code",
   "execution_count": 29,
   "metadata": {},
   "outputs": [],
   "source": [
    "mnist = tf.keras.datasets.mnist   #28*28 images of handwritten digits 0-9 \n",
    "\n",
    "(_ , _) , (x_test , y_test) = mnist.load_data()\n",
    "\n",
    "# x_test =  normalize(x_test , axis=1) #toggle this line to see its effect"
   ]
  },
  {
   "cell_type": "code",
   "execution_count": 31,
   "metadata": {},
   "outputs": [
    {
     "name": "stdout",
     "output_type": "stream",
     "text": [
      "(10000, 28, 28)\n",
      "[1. 0. 0. 0. 0. 0. 0. 0. 0. 0.]\n",
      "0\n"
     ]
    },
    {
     "data": {
      "image/png": "[encoded data removed]",
      "text/plain": [
       "<matplotlib.figure.Figure at 0x7f5828f41f28>"
      ]
     },
     "metadata": {},
     "output_type": "display_data"
    }
   ],
   "source": [
    "new_model = tf.keras.models.load_model('mnist_reader.model')\n",
    "\n",
    "index = 3 #change index to explore\n",
    "\n",
    "predictions = new_model.predict([x_test])\n",
    "print(x_test.shape)\n",
    "print(predictions[index])\n",
    "\n",
    "print(np.argmax(predictions[index]))\n",
    "\n",
    "plt.imshow(x_test[index] , cmap = plt.cm.binary)\n",
    "plt.show()"
   ]
  },
  {
   "cell_type": "code",
   "execution_count": 32,
   "metadata": {},
   "outputs": [],
   "source": [
    "#Resizing image to correct dimensions\n",
    "\n",
    "from PIL import Image\n",
    "\n",
    "img = Image.open('mnist_input_0.png') # image extension *.png,*.jpg\n",
    "new_width  = 28\n",
    "new_height = 28\n",
    "img = img.resize((new_width, new_height), Image.ANTIALIAS)\n",
    "img.save('mnist_resized.png')"
   ]
  },
  {
   "cell_type": "code",
   "execution_count": 33,
   "metadata": {},
   "outputs": [
    {
     "name": "stdout",
     "output_type": "stream",
     "text": [
      "[[4.8224565e-01 2.0502397e-04 1.3475554e-02 3.6248896e-02 1.3869249e-04\n",
      "  3.3414438e-02 2.8911412e-01 6.7369882e-03 1.2892744e-01 9.4932113e-03]]\n",
      "0\n"
     ]
    },
    {
     "data": {
      "image/png": "[encoded data removed]",
      "text/plain": [
       "<matplotlib.figure.Figure at 0x7f58289014a8>"
      ]
     },
     "metadata": {},
     "output_type": "display_data"
    }
   ],
   "source": [
    "# Loading the earlier Saved Model \n",
    "new_model = tf.keras.models.load_model('mnist_reader.model')\n",
    "\n",
    "# Loading the input image\n",
    "my_image = 'mnist_resized.png'\n",
    "\n",
    "img_input = imageio.imread(my_image)\n",
    "img_input =  normalize(img_input , axis=1)\n",
    "\n",
    "# Predicting over the input images\n",
    "predictions = new_model.predict([[img_input]]) # imput dim 1*28*28\n",
    "\n",
    "print(predictions)\n",
    "\n",
    "print(np.argmax(predictions))\n",
    "\n",
    "plt.imshow(img_input , cmap = plt.cm.binary)\n",
    "plt.show()"
   ]
  },
  {
   "cell_type": "code",
   "execution_count": 20,
   "metadata": {},
   "outputs": [
    {
     "data": {
      "text/plain": [
       "(28, 28)"
      ]
     },
     "execution_count": 20,
     "metadata": {},
     "output_type": "execute_result"
    }
   ],
   "source": [
    "img_input.shape"
   ]
  },
  {
   "cell_type": "code",
   "execution_count": null,
   "metadata": {},
   "outputs": [],
   "source": []
  }
 ],
 "metadata": {
  "kernelspec": {
   "display_name": "Python 3",
   "language": "python",
   "name": "python3"
  },
  "language_info": {
   "codemirror_mode": {
    "name": "ipython",
    "version": 3
   },
   "file_extension": ".py",
   "mimetype": "text/x-python",
   "name": "python",
   "nbconvert_exporter": "python",
   "pygments_lexer": "ipython3",
   "version": "3.6.4"
  }
 },
 "nbformat": 4,
 "nbformat_minor": 2
}
